{
  "nbformat": 4,
  "nbformat_minor": 0,
  "metadata": {
    "colab": {
      "provenance": [],
      "toc_visible": true,
      "include_colab_link": true
    },
    "kernelspec": {
      "name": "python3",
      "display_name": "Python 3"
    },
    "language_info": {
      "name": "python"
    }
  },
  "cells": [
    {
      "cell_type": "markdown",
      "metadata": {
        "id": "view-in-github",
        "colab_type": "text"
      },
      "source": [
        "<a href=\"https://colab.research.google.com/github/Hongchen030/ims/blob/master/homework_1(Hong).ipynb\" target=\"_parent\"><img src=\"https://colab.research.google.com/assets/colab-badge.svg\" alt=\"Open In Colab\"/></a>"
      ]
    },
    {
      "cell_type": "markdown",
      "source": [
        "#Q1#\n",
        "Given the list of numbers: `12, 34, 45, 67, 88, 99, 56, 23`, find the sum of all the even numbers in the list."
      ],
      "metadata": {
        "id": "SqgQziyUGC2z"
      }
    },
    {
      "cell_type": "code",
      "source": [],
      "metadata": {
        "id": "_SAtjY_MqbWU"
      },
      "execution_count": null,
      "outputs": []
    },
    {
      "cell_type": "markdown",
      "source": [
        "#Q2#\n",
        "Write a program to remove all duplicates from the list\n",
        "`[1, 2, 2, 3, 4, 4, 5]`"
      ],
      "metadata": {
        "id": "alO97tTXPH6R"
      }
    },
    {
      "cell_type": "code",
      "source": [],
      "metadata": {
        "id": "FigidSedPXlw"
      },
      "execution_count": null,
      "outputs": []
    },
    {
      "cell_type": "markdown",
      "source": [
        "#Q3#\n",
        "Given two lists,\n",
        "```\n",
        "list1 = [1, 2, 3, 4, 3, 5]\n",
        "list2 = [3, 4, 5, 6, 7, 4]\n",
        "```\n",
        "write a program to find the unique common elements between them."
      ],
      "metadata": {
        "id": "8gjag6jFPgLn"
      }
    },
    {
      "cell_type": "code",
      "source": [],
      "metadata": {
        "id": "26OwpBTSP-UM"
      },
      "execution_count": null,
      "outputs": []
    },
    {
      "cell_type": "markdown",
      "source": [
        "#Q4#\n",
        "Given the list of strings,\n",
        "\n",
        "`[\"apple\", \"banana\", \"cherry\", \"date\", \"fig\"]`,\n",
        "\n",
        "create a new list containing only the strings with more than 4 characters using list comprehensio\n",
        "\n"
      ],
      "metadata": {
        "id": "Wu9CxFNORNsm"
      }
    },
    {
      "cell_type": "code",
      "source": [],
      "metadata": {
        "id": "41AQB5tpRYzs"
      },
      "execution_count": null,
      "outputs": []
    },
    {
      "cell_type": "markdown",
      "source": [
        "#Q5#\n",
        "Write a function to reverse a list without using the reverse method."
      ],
      "metadata": {
        "id": "nb0cBndORxdT"
      }
    },
    {
      "cell_type": "code",
      "source": [],
      "metadata": {
        "id": "mRkD2OrfRvBH"
      },
      "execution_count": null,
      "outputs": []
    },
    {
      "cell_type": "markdown",
      "source": [
        "#Q6#\n",
        "Create a matrix (a list of lists) and write a program to find the sum of all the elements in the matrix."
      ],
      "metadata": {
        "id": "shYTeXiCSR0l"
      }
    },
    {
      "cell_type": "code",
      "source": [
        "\n"
      ],
      "metadata": {
        "id": "HD9Gm_rbSQEz"
      },
      "execution_count": null,
      "outputs": []
    },
    {
      "cell_type": "markdown",
      "source": [
        "#Q7#\n",
        "Given the list of numbers,\n",
        "\n",
        "`[12, 34, 45, 67, 88, 99, 56, 23]`\n",
        "\n",
        "write codes to find the second largest and second smallest elements."
      ],
      "metadata": {
        "id": "8VcZx57US70G"
      }
    },
    {
      "cell_type": "code",
      "source": [],
      "metadata": {
        "id": "A5vCgMnbTBcf"
      },
      "execution_count": null,
      "outputs": []
    },
    {
      "cell_type": "markdown",
      "source": [
        "#Q8#\n",
        "\n",
        "Write a function that computes the cumulative sum of a list (each element is the sum of all elements before it)."
      ],
      "metadata": {
        "id": "2LR-YUf-T9EZ"
      }
    },
    {
      "cell_type": "code",
      "source": [],
      "metadata": {
        "id": "6D4L1Yc1UQ7j"
      },
      "execution_count": null,
      "outputs": []
    },
    {
      "cell_type": "markdown",
      "source": [
        "#Q9#\n",
        "Based on the dictionary below,\n",
        "\n",
        "```\n",
        "prices = {\n",
        "'ACME': 45.23,\n",
        "'AAPL': 612.78,\n",
        "'IBM': 205.55,\n",
        "'HPQ': 37.20,\n",
        "'FB': 10.75\n",
        "}\n",
        "```\n",
        "1. Make a dictionary of all prices over 200\n",
        "\n",
        "2. Make a dictionary of tech stocks based on the following list.\n",
        "`tech_names = ['AAPL', 'IBM', 'HPQ', 'FB']`\n"
      ],
      "metadata": {
        "id": "Es6hBQMwWVYQ"
      }
    },
    {
      "cell_type": "code",
      "source": [],
      "metadata": {
        "id": "jmJBjueAWfk0"
      },
      "execution_count": null,
      "outputs": []
    },
    {
      "cell_type": "markdown",
      "source": [
        "#Q10#\n",
        "\n",
        "Given the string,\n",
        "\n",
        "`string = \"Hello, World!\"`\n",
        "\n",
        "count the number of vowels `(a, e, i, o, u)` in it."
      ],
      "metadata": {
        "id": "olmlaDhpXVLV"
      }
    },
    {
      "cell_type": "code",
      "source": [],
      "metadata": {
        "id": "YZrvLXJ2YEC7"
      },
      "execution_count": null,
      "outputs": []
    },
    {
      "cell_type": "markdown",
      "source": [
        "#Q11#\n",
        "\n",
        "Given the string,\n",
        "\n",
        "`\"Hello, World !\"`\n",
        "\n",
        "remove all whitespace characters from it.\n"
      ],
      "metadata": {
        "id": "iztTuFCzDpzJ"
      }
    },
    {
      "cell_type": "code",
      "source": [],
      "metadata": {
        "id": "lS7K-7F8DvwK"
      },
      "execution_count": null,
      "outputs": []
    },
    {
      "cell_type": "markdown",
      "source": [
        "#Q12#\n",
        "\n",
        "Given the string,\n",
        "\n",
        "`\"This is a sample sentence with long words\"`\n",
        "\n",
        "find the longest word in it."
      ],
      "metadata": {
        "id": "iZYGypDsEZBk"
      }
    },
    {
      "cell_type": "code",
      "source": [],
      "metadata": {
        "id": "QK0EsmmsEfrv"
      },
      "execution_count": null,
      "outputs": []
    },
    {
      "cell_type": "markdown",
      "source": [
        "#Q13#\n",
        "\n",
        "Write code to round `123456` to tens place"
      ],
      "metadata": {
        "id": "LmSbyKpwFlFH"
      }
    },
    {
      "cell_type": "code",
      "source": [],
      "metadata": {
        "id": "txIoPmpUGvpy"
      },
      "execution_count": null,
      "outputs": []
    },
    {
      "cell_type": "markdown",
      "source": [
        "#Q14#\n",
        "\n",
        "Write a function that checks if a given number is even or odd and returns a corresponding message.\n"
      ],
      "metadata": {
        "id": "g_ZzptXXJ4V5"
      }
    },
    {
      "cell_type": "code",
      "source": [],
      "metadata": {
        "id": "WwzfztwsJ9oB"
      },
      "execution_count": null,
      "outputs": []
    },
    {
      "cell_type": "markdown",
      "source": [
        "#Q15#\n",
        "\n",
        "Create a function that takes a **list** of numbers as input and returns the average of those numbers."
      ],
      "metadata": {
        "id": "e0Mrsya3Kdng"
      }
    },
    {
      "cell_type": "code",
      "source": [],
      "metadata": {
        "id": "1UnDTwdBKtPY"
      },
      "execution_count": null,
      "outputs": []
    },
    {
      "cell_type": "markdown",
      "source": [
        "#Q16#\n",
        "\n",
        "Write a function that takes **a variable number** of arguments and returns their sum."
      ],
      "metadata": {
        "id": "EbfeNyD4K6DF"
      }
    },
    {
      "cell_type": "code",
      "source": [],
      "metadata": {
        "id": "J-gaTxyzLesa"
      },
      "execution_count": null,
      "outputs": []
    },
    {
      "cell_type": "markdown",
      "source": [
        "#Q17#\n",
        "\n",
        "Create a lambda function that takes two numbers as input and returns their product."
      ],
      "metadata": {
        "id": "mKIOKd61MIJ9"
      }
    },
    {
      "cell_type": "code",
      "source": [],
      "metadata": {
        "id": "jN8g5NtJMLjS"
      },
      "execution_count": null,
      "outputs": []
    },
    {
      "cell_type": "markdown",
      "source": [
        "#Q18#\n",
        "\n",
        "Write a function that accepts a **dictionary** of student names and their corresponding scores. Calculate the average score, round it to the second digits after decimal points, and return it.\n",
        "\n",
        "Example input:\n",
        "\n",
        "`student_scores = {\"Alice\": 90, \"Brain\": 82, \"David\": 88}`\n"
      ],
      "metadata": {
        "id": "5ihLqra6MzMi"
      }
    },
    {
      "cell_type": "code",
      "source": [],
      "metadata": {
        "id": "XjU464wrNY6X"
      },
      "execution_count": null,
      "outputs": []
    },
    {
      "cell_type": "markdown",
      "source": [
        "#Q19#\n",
        "\n",
        "Write a function `count_char_occurrences` that takes a string and a character as arguments and counts the number of times the character appears in the string.\n",
        "\n",
        "Example imput:\n",
        "\n",
        "```\n",
        "text = \"Hello, World!\"\n",
        "char = 'l'\n",
        "count = count_char_occurrences(text, char)\n",
        "```"
      ],
      "metadata": {
        "id": "9YzJfl9WOHRU"
      }
    },
    {
      "cell_type": "code",
      "source": [],
      "metadata": {
        "id": "PBXWTAMJOGem"
      },
      "execution_count": null,
      "outputs": []
    },
    {
      "cell_type": "markdown",
      "source": [
        "#Q20#\n",
        "\n",
        "Create a function that takes a function and a list of numbers as arguments and applies the function to each number in the list.\n",
        "\n",
        "Example:\n",
        "```\n",
        "def apply_function_to_list(func, numbers):\n",
        "    # you code here\n",
        "\n",
        "numbers = [1, 2, 3, 4, 5]\n",
        "squared_numbers = apply_function_to_list(lambda x: x**2, numbers)\n",
        "print(\"Squared numbers:\", squared_numbers)\n",
        "\n",
        "```"
      ],
      "metadata": {
        "id": "vEOXkDlUP6t_"
      }
    },
    {
      "cell_type": "code",
      "source": [],
      "metadata": {
        "id": "5O2kN1uRQFJb"
      },
      "execution_count": null,
      "outputs": []
    },
    {
      "cell_type": "markdown",
      "source": [
        "#Q21#\n",
        "\n",
        "Write a program that calculates the factorial of a given non-negative integer that is less than 15 using a **while** loop."
      ],
      "metadata": {
        "id": "1IoLNHc0RDkG"
      }
    },
    {
      "cell_type": "code",
      "source": [],
      "metadata": {
        "id": "B8hbmy3_RJBd"
      },
      "execution_count": null,
      "outputs": []
    },
    {
      "cell_type": "markdown",
      "source": [
        "#Q22#\n",
        "\n",
        "Create a program that takes a list of numbers and performs the following operations:\n",
        "\n",
        "+ Find the maximum number in the list.\n",
        "+ Find the minimum number in the list.\n",
        "+ Calculate the sum of all numbers in the list.\n",
        "+ Calculate the average of the numbers in the list.\n",
        "\n",
        "Example list\n",
        "\n",
        "`[12, 34, 75, 14, 23, 809]`"
      ],
      "metadata": {
        "id": "_-DsCWs8Rzlm"
      }
    },
    {
      "cell_type": "code",
      "source": [],
      "metadata": {
        "id": "mB_H6p1CSFHl"
      },
      "execution_count": null,
      "outputs": []
    },
    {
      "cell_type": "markdown",
      "source": [
        "#Q23#\n",
        "\n",
        "Create a program that extracts a sublist from a given list based on user input for start and end indices.\n",
        "\n",
        "Example input\n",
        "```\n",
        "original_list = [1, 2, 3, 4, 5, 6, 7, 8, 9]\n",
        "\n",
        "start_index = 2\n",
        "end_index = 5\n",
        "```"
      ],
      "metadata": {
        "id": "Hl4f9MbFSqgt"
      }
    },
    {
      "cell_type": "code",
      "source": [],
      "metadata": {
        "id": "HsCjEG58Stvm"
      },
      "execution_count": null,
      "outputs": []
    },
    {
      "cell_type": "markdown",
      "source": [
        "#Q24#\n",
        "\n",
        "Write a program that demonstrates basic set operations such as union, intersection, and difference."
      ],
      "metadata": {
        "id": "G-40K60WTqEv"
      }
    },
    {
      "cell_type": "code",
      "source": [],
      "metadata": {
        "id": "hbdsdbOzTt1W"
      },
      "execution_count": null,
      "outputs": []
    }
  ]
}